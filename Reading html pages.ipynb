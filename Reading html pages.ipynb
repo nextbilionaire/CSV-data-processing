{
 "cells": [
  {
   "cell_type": "code",
   "execution_count": 1,
   "id": "0a8836bc",
   "metadata": {},
   "outputs": [
    {
     "ename": "ModuleNotFoundError",
     "evalue": "No module named 'urllib2'",
     "output_type": "error",
     "traceback": [
      "\u001b[1;31m---------------------------------------------------------------------------\u001b[0m",
      "\u001b[1;31mModuleNotFoundError\u001b[0m                       Traceback (most recent call last)",
      "\u001b[1;32m<ipython-input-1-3c5c1fec2a22>\u001b[0m in \u001b[0;36m<module>\u001b[1;34m\u001b[0m\n\u001b[1;32m----> 1\u001b[1;33m \u001b[1;32mimport\u001b[0m \u001b[0murllib2\u001b[0m\u001b[1;33m\u001b[0m\u001b[1;33m\u001b[0m\u001b[0m\n\u001b[0m\u001b[0;32m      2\u001b[0m \u001b[1;32mfrom\u001b[0m \u001b[0mbs4\u001b[0m \u001b[1;32mimport\u001b[0m \u001b[0mBeautifulSoup\u001b[0m\u001b[1;33m\u001b[0m\u001b[1;33m\u001b[0m\u001b[0m\n\u001b[0;32m      3\u001b[0m \u001b[1;33m\u001b[0m\u001b[0m\n\u001b[0;32m      4\u001b[0m \u001b[0mresponse\u001b[0m \u001b[1;33m=\u001b[0m \u001b[0murllib2\u001b[0m\u001b[1;33m.\u001b[0m\u001b[0murlopen\u001b[0m\u001b[1;33m(\u001b[0m\u001b[1;34m'http://tutorialspoint.com/python/python_overview.htm'\u001b[0m\u001b[1;33m)\u001b[0m\u001b[1;33m\u001b[0m\u001b[1;33m\u001b[0m\u001b[0m\n\u001b[0;32m      5\u001b[0m \u001b[0mhtml_doc\u001b[0m \u001b[1;33m=\u001b[0m \u001b[0mresponse\u001b[0m\u001b[1;33m.\u001b[0m\u001b[0mread\u001b[0m\u001b[1;33m(\u001b[0m\u001b[1;33m)\u001b[0m\u001b[1;33m\u001b[0m\u001b[1;33m\u001b[0m\u001b[0m\n",
      "\u001b[1;31mModuleNotFoundError\u001b[0m: No module named 'urllib2'"
     ]
    }
   ],
   "source": [
    "import urllib2\n",
    "from bs4 import BeautifulSoup\n",
    "\n",
    "response = urllib2.urlopen('http://tutorialspoint.com/python/python_overview.htm')\n",
    "html_doc = response.read()\n",
    "\n",
    "soup = BeautifulSoup(html_doc, 'html.parser')\n",
    "\n",
    "print (soup.title)\n",
    "print(soup.title.string)\n",
    "print(soup.a.string)\n",
    "print(soup.b.string)"
   ]
  },
  {
   "cell_type": "code",
   "execution_count": 2,
   "id": "acbfc35e",
   "metadata": {},
   "outputs": [],
   "source": [
    "from urllib.request import urlopen\n",
    "#fetch the contents of a URL to handler\n",
    "res = urlopen(\"https://blog.finxter.com/\")\n",
    "#read the contents from the handler\n",
    "content = res.read()"
   ]
  },
  {
   "cell_type": "code",
   "execution_count": 3,
   "id": "4ee91c5e",
   "metadata": {},
   "outputs": [
    {
     "name": "stdout",
     "output_type": "stream",
     "text": [
      "<title>Python - Overview</title>\n",
      "Python - Overview\n",
      "None\n",
      "Python is Interpreted\n"
     ]
    }
   ],
   "source": [
    "from urllib.request import urlopen\n",
    "from bs4 import BeautifulSoup\n",
    "#fetch the contents of a URL to handler\n",
    "response = urlopen('https://www.dkut.ac.ke/')\n",
    "#read the contents from the handler\n",
    "html_doc = response.read()\n",
    "soup = BeautifulSoup(html_doc, 'html.parser')\n",
    "\n",
    "print (soup.title)\n",
    "print(soup.title.string)\n",
    "print(soup.a.string)\n",
    "print(soup.b.string)"
   ]
  },
  {
   "cell_type": "code",
   "execution_count": 4,
   "id": "fc037635",
   "metadata": {},
   "outputs": [
    {
     "name": "stdout",
     "output_type": "stream",
     "text": [
      "<title>Dedan Kimathi University of Technology - Dedan Kimathi University of Technology</title>\n",
      "Dedan Kimathi University of Technology - Dedan Kimathi University of Technology\n",
      "H0ME\n"
     ]
    },
    {
     "ename": "AttributeError",
     "evalue": "'NoneType' object has no attribute 'string'",
     "output_type": "error",
     "traceback": [
      "\u001b[1;31m---------------------------------------------------------------------------\u001b[0m",
      "\u001b[1;31mAttributeError\u001b[0m                            Traceback (most recent call last)",
      "\u001b[1;32m<ipython-input-4-f4384490b7f2>\u001b[0m in \u001b[0;36m<module>\u001b[1;34m\u001b[0m\n\u001b[0;32m     10\u001b[0m \u001b[0mprint\u001b[0m\u001b[1;33m(\u001b[0m\u001b[0msoup\u001b[0m\u001b[1;33m.\u001b[0m\u001b[0mtitle\u001b[0m\u001b[1;33m.\u001b[0m\u001b[0mstring\u001b[0m\u001b[1;33m)\u001b[0m\u001b[1;33m\u001b[0m\u001b[1;33m\u001b[0m\u001b[0m\n\u001b[0;32m     11\u001b[0m \u001b[0mprint\u001b[0m\u001b[1;33m(\u001b[0m\u001b[0msoup\u001b[0m\u001b[1;33m.\u001b[0m\u001b[0ma\u001b[0m\u001b[1;33m.\u001b[0m\u001b[0mstring\u001b[0m\u001b[1;33m)\u001b[0m\u001b[1;33m\u001b[0m\u001b[1;33m\u001b[0m\u001b[0m\n\u001b[1;32m---> 12\u001b[1;33m \u001b[0mprint\u001b[0m\u001b[1;33m(\u001b[0m\u001b[0msoup\u001b[0m\u001b[1;33m.\u001b[0m\u001b[0mb\u001b[0m\u001b[1;33m.\u001b[0m\u001b[0mstring\u001b[0m\u001b[1;33m)\u001b[0m\u001b[1;33m\u001b[0m\u001b[1;33m\u001b[0m\u001b[0m\n\u001b[0m",
      "\u001b[1;31mAttributeError\u001b[0m: 'NoneType' object has no attribute 'string'"
     ]
    }
   ],
   "source": [
    "from urllib.request import urlopen\n",
    "from bs4 import BeautifulSoup\n",
    "#fetch the contents of a URL to handler\n",
    "response = urlopen('https://www.dkut.ac.ke/')\n",
    "#read the contents from the handler\n",
    "html_doc = response.read()\n",
    "soup = BeautifulSoup(html_doc, 'html.parser')\n",
    "\n",
    "print (soup.title)\n",
    "print(soup.title.string)\n",
    "print(soup.a.string)\n",
    "print(soup.b.string)"
   ]
  },
  {
   "cell_type": "code",
   "execution_count": 5,
   "id": "fc1acf0c",
   "metadata": {},
   "outputs": [
    {
     "name": "stdout",
     "output_type": "stream",
     "text": [
      "<title>Dedan Kimathi University of Technology - Dedan Kimathi University of Technology</title>\n",
      "Dedan Kimathi University of Technology - Dedan Kimathi University of Technology\n",
      "H0ME\n"
     ]
    }
   ],
   "source": [
    "from urllib.request import urlopen\n",
    "from bs4 import BeautifulSoup\n",
    "#fetch the contents of a URL to handler\n",
    "response = urlopen('https://www.dkut.ac.ke/')\n",
    "#read the contents from the handler\n",
    "html_doc = response.read()\n",
    "soup = BeautifulSoup(html_doc, 'html.parser')\n",
    "\n",
    "print (soup.title)\n",
    "print(soup.title.string)\n",
    "print(soup.a.string)"
   ]
  },
  {
   "cell_type": "code",
   "execution_count": 6,
   "id": "a20ffe93",
   "metadata": {},
   "outputs": [
    {
     "name": "stdout",
     "output_type": "stream",
     "text": [
      "<!DOCTYPE html>\n",
      "<html lang=\"en-US\">\n",
      " <head>\n",
      "  <title>\n",
      "   Python - Overview\n",
      "  </title>\n",
      "  <meta charset=\"utf-8\"/>\n",
      "  <meta content=\"Python - Overview,  Python is a high-level, interpreted, interactive and object-oriented scripti\n"
     ]
    }
   ],
   "source": [
    "from urllib.request import urlopen\n",
    "from bs4 import BeautifulSoup\n",
    "\n",
    "# Fetch the html file\n",
    "response = urlopen('https://www.dkut.ac.ke/')\n",
    "html_doc = response.read()\n",
    "\n",
    "# Parse the html file\n",
    "soup = BeautifulSoup(html_doc, 'html.parser')\n",
    "\n",
    "# Format the parsed html file\n",
    "strhtm = soup.prettify()\n",
    "\n",
    "# Print the first few characters\n",
    "print (strhtm[:225])"
   ]
  },
  {
   "cell_type": "code",
   "execution_count": 7,
   "id": "0fe7affa",
   "metadata": {},
   "outputs": [
    {
     "name": "stdout",
     "output_type": "stream",
     "text": [
      "<!DOCTYPE HTML>\n",
      "<html lang=\"en-GB\" prefix=\"og: http://ogp.me/ns#\" xml:lang=\"en-GB\">\n",
      " <head>\n",
      "  <base href=\"https://www.dkut.ac.ke/\"/>\n",
      "  <meta content=\"text/html; charset=utf-8\" http-equiv=\"content-type\"/>\n",
      "  <meta content=\"dkut\n"
     ]
    }
   ],
   "source": [
    "from urllib.request import urlopen\n",
    "from bs4 import BeautifulSoup\n",
    "\n",
    "# Fetch the html file\n",
    "response = urlopen('https://www.dkut.ac.ke/')\n",
    "html_doc = response.read()\n",
    "\n",
    "# Parse the html file\n",
    "soup = BeautifulSoup(html_doc, 'html.parser')\n",
    "\n",
    "# Format the parsed html file\n",
    "strhtm = soup.prettify()\n",
    "\n",
    "# Print the first few characters\n",
    "print (strhtm[:225])"
   ]
  },
  {
   "cell_type": "code",
   "execution_count": 8,
   "id": "08676960",
   "metadata": {},
   "outputs": [
    {
     "name": "stdout",
     "output_type": "stream",
     "text": [
      "Python is Interpreted\n",
      "Python is Interactive\n",
      "Python is Object-Oriented\n",
      "Python is a Beginner's Language\n",
      "Easy-to-learn\n",
      "Easy-to-read\n",
      "Easy-to-maintain\n",
      "A broad standard library\n",
      "Interactive Mode\n",
      "Portable\n",
      "Extendable\n",
      "Databases\n",
      "GUI Programming\n",
      "Scalable\n"
     ]
    }
   ],
   "source": [
    "from urllib.request import urlopen\n",
    "from bs4 import BeautifulSoup\n",
    "\n",
    "response = urlopen('http://tutorialspoint.com/python/python_overview.htm')\n",
    "html_doc = response.read()\n",
    "soup = BeautifulSoup(html_doc, 'html.parser')\n",
    "\n",
    "for x in soup.find_all('b'): print(x.string)"
   ]
  },
  {
   "cell_type": "code",
   "execution_count": 9,
   "id": "92f7137e",
   "metadata": {},
   "outputs": [],
   "source": [
    "from urllib.request import urlopen\n",
    "from bs4 import BeautifulSoup\n",
    "\n",
    "response = urlopen('https://web.whatsapp.com')\n",
    "html_doc = response.read()\n",
    "soup = BeautifulSoup(html_doc, 'html.parser')\n",
    "\n",
    "for x in soup.find_all('b'): print(x.string)"
   ]
  },
  {
   "cell_type": "code",
   "execution_count": 10,
   "id": "69d14530",
   "metadata": {},
   "outputs": [],
   "source": [
    "from urllib.request import urlopen\n",
    "from bs4 import BeautifulSoup\n",
    "\n",
    "response = urlopen('https://web.whatsapp.com')\n",
    "html_doc = response.read()\n",
    "soup = BeautifulSoup(html_doc, 'html.parser')\n",
    "\n",
    "for x in soup.find_all('b'): print(x.string)"
   ]
  },
  {
   "cell_type": "code",
   "execution_count": null,
   "id": "9eb2e7ad",
   "metadata": {},
   "outputs": [],
   "source": []
  }
 ],
 "metadata": {
  "kernelspec": {
   "display_name": "Python 3",
   "language": "python",
   "name": "python3"
  },
  "language_info": {
   "codemirror_mode": {
    "name": "ipython",
    "version": 3
   },
   "file_extension": ".py",
   "mimetype": "text/x-python",
   "name": "python",
   "nbconvert_exporter": "python",
   "pygments_lexer": "ipython3",
   "version": "3.8.8"
  }
 },
 "nbformat": 4,
 "nbformat_minor": 5
}
